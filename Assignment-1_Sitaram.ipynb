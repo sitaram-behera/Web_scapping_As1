{
 "cells": [
  {
   "cell_type": "code",
   "execution_count": 1,
   "id": "013303d3",
   "metadata": {},
   "outputs": [
    {
     "name": "stdout",
     "output_type": "stream",
     "text": [
      "Requirement already satisfied: bs4 in c:\\users\\lenovo\\anaconda3\\lib\\site-packages (0.0.1)\n",
      "Requirement already satisfied: beautifulsoup4 in c:\\users\\lenovo\\anaconda3\\lib\\site-packages (from bs4) (4.11.1)\n",
      "Requirement already satisfied: soupsieve>1.2 in c:\\users\\lenovo\\anaconda3\\lib\\site-packages (from beautifulsoup4->bs4) (2.3.2.post1)\n",
      "Note: you may need to restart the kernel to use updated packages.\n"
     ]
    }
   ],
   "source": [
    "pip install bs4 "
   ]
  },
  {
   "cell_type": "code",
   "execution_count": 2,
   "id": "0d079d21",
   "metadata": {},
   "outputs": [
    {
     "name": "stdout",
     "output_type": "stream",
     "text": [
      "Requirement already satisfied: requests in c:\\users\\lenovo\\anaconda3\\lib\\site-packages (2.28.1)\n",
      "Requirement already satisfied: idna<4,>=2.5 in c:\\users\\lenovo\\anaconda3\\lib\\site-packages (from requests) (3.4)\n",
      "Requirement already satisfied: certifi>=2017.4.17 in c:\\users\\lenovo\\anaconda3\\lib\\site-packages (from requests) (2022.12.7)\n",
      "Requirement already satisfied: charset-normalizer<3,>=2 in c:\\users\\lenovo\\anaconda3\\lib\\site-packages (from requests) (2.0.4)\n",
      "Requirement already satisfied: urllib3<1.27,>=1.21.1 in c:\\users\\lenovo\\anaconda3\\lib\\site-packages (from requests) (1.26.14)\n",
      "Note: you may need to restart the kernel to use updated packages.\n"
     ]
    }
   ],
   "source": [
    "pip install requests"
   ]
  },
  {
   "cell_type": "markdown",
   "id": "9d647749",
   "metadata": {},
   "source": [
    "Importing liabraries"
   ]
  },
  {
   "cell_type": "code",
   "execution_count": 3,
   "id": "2974a7fc",
   "metadata": {},
   "outputs": [],
   "source": [
    "import requests\n",
    "from bs4 import BeautifulSoup\n",
    "import pandas as pd"
   ]
  },
  {
   "cell_type": "markdown",
   "id": "2c7a3618",
   "metadata": {},
   "source": [
    "Accessing the url"
   ]
  },
  {
   "cell_type": "code",
   "execution_count": 4,
   "id": "f8cfd43d",
   "metadata": {},
   "outputs": [],
   "source": [
    "url = \"http://quotes.toscrape.com/page/1/\""
   ]
  },
  {
   "cell_type": "markdown",
   "id": "df1925f8",
   "metadata": {},
   "source": [
    "Collecting all the details from the url"
   ]
  },
  {
   "cell_type": "code",
   "execution_count": 5,
   "id": "bb3ea290",
   "metadata": {},
   "outputs": [],
   "source": [
    "response = requests.get(url)"
   ]
  },
  {
   "cell_type": "markdown",
   "id": "1f1ba53b",
   "metadata": {},
   "source": [
    "Getting contents from the url"
   ]
  },
  {
   "cell_type": "code",
   "execution_count": 6,
   "id": "010adf3c",
   "metadata": {},
   "outputs": [],
   "source": [
    "response = response.content"
   ]
  },
  {
   "cell_type": "markdown",
   "id": "4c534933",
   "metadata": {},
   "source": [
    "Getting every content in HTML format"
   ]
  },
  {
   "cell_type": "code",
   "execution_count": 7,
   "id": "03fca67a",
   "metadata": {},
   "outputs": [],
   "source": [
    "soup = BeautifulSoup(response,'html.parser')"
   ]
  },
  {
   "cell_type": "markdown",
   "id": "8757a80b",
   "metadata": {},
   "source": [
    "Finding all the content in which every records of data is present"
   ]
  },
  {
   "cell_type": "code",
   "execution_count": 21,
   "id": "4d0541d5",
   "metadata": {},
   "outputs": [],
   "source": [
    "div = soup.find('div')"
   ]
  },
  {
   "cell_type": "markdown",
   "id": "fcf0d27d",
   "metadata": {},
   "source": [
    "Collecting each record and putting it together in a single variable"
   ]
  },
  {
   "cell_type": "code",
   "execution_count": 23,
   "id": "16871f98",
   "metadata": {},
   "outputs": [],
   "source": [
    "Values = div.find_all('div',class_='quote')"
   ]
  },
  {
   "cell_type": "markdown",
   "id": "7358be21",
   "metadata": {},
   "source": [
    "Fetching Author's name , quaote and tags from each record"
   ]
  },
  {
   "cell_type": "code",
   "execution_count": 28,
   "id": "d510da37",
   "metadata": {},
   "outputs": [
    {
     "name": "stdout",
     "output_type": "stream",
     "text": [
      "change,deep-thoughts,thinking,world\n",
      "abilities,choices\n",
      "inspirational,life,live,miracle,miracles\n",
      "aliteracy,books,classic,humor\n",
      "be-yourself,inspirational\n",
      "adulthood,success,value\n",
      "life,love\n",
      "edison,failure,inspirational,paraphrased\n",
      "misattributed-eleanor-roosevelt\n",
      "humor,obvious,simile\n"
     ]
    }
   ],
   "source": [
    "for value in Values:\n",
    "    Name = value.find('small',class_='author').text\n",
    "    quotes = value.find('span',class_='text').text\n",
    "    tags = value.find('meta')\n",
    "    tags = tags.attrs['content']\n",
    "    print(tags)"
   ]
  },
  {
   "cell_type": "markdown",
   "id": "f772f6ac",
   "metadata": {},
   "source": [
    "Now getting all data from first 10 pages"
   ]
  },
  {
   "cell_type": "code",
   "execution_count": 29,
   "id": "0441341f",
   "metadata": {},
   "outputs": [],
   "source": [
    "Content = []\n",
    "\n",
    "for i in range(1,11):\n",
    "    url = f\"http://quotes.toscrape.com/page/{i}/\"\n",
    "    response = requests.get(url)\n",
    "    response = response.content\n",
    "    soup = BeautifulSoup(response,'html.parser')\n",
    "    div = soup.find('div')\n",
    "    Values = div.find_all('div',class_='quote')\n",
    "    \n",
    "    for value in Values:\n",
    "        \n",
    "        Author = value.find('small',class_='author').text\n",
    "        quotes = value.find('span',class_='text').text\n",
    "        tag = value.find('meta')\n",
    "        tags = tag.attrs['content']\n",
    "        Content.append([Author,quotes,tags])\n",
    "    "
   ]
  },
  {
   "cell_type": "code",
   "execution_count": 31,
   "id": "c77343b0",
   "metadata": {},
   "outputs": [],
   "source": [
    "df = pd.DataFrame(Content,columns = ['Author','quotes','tags'])"
   ]
  },
  {
   "cell_type": "code",
   "execution_count": 32,
   "id": "f93e952c",
   "metadata": {},
   "outputs": [
    {
     "data": {
      "text/html": [
       "<div>\n",
       "<style scoped>\n",
       "    .dataframe tbody tr th:only-of-type {\n",
       "        vertical-align: middle;\n",
       "    }\n",
       "\n",
       "    .dataframe tbody tr th {\n",
       "        vertical-align: top;\n",
       "    }\n",
       "\n",
       "    .dataframe thead th {\n",
       "        text-align: right;\n",
       "    }\n",
       "</style>\n",
       "<table border=\"1\" class=\"dataframe\">\n",
       "  <thead>\n",
       "    <tr style=\"text-align: right;\">\n",
       "      <th></th>\n",
       "      <th>Author</th>\n",
       "      <th>quotes</th>\n",
       "      <th>tags</th>\n",
       "    </tr>\n",
       "  </thead>\n",
       "  <tbody>\n",
       "    <tr>\n",
       "      <th>0</th>\n",
       "      <td>Albert Einstein</td>\n",
       "      <td>“The world as we have created it is a process ...</td>\n",
       "      <td>change,deep-thoughts,thinking,world</td>\n",
       "    </tr>\n",
       "    <tr>\n",
       "      <th>1</th>\n",
       "      <td>J.K. Rowling</td>\n",
       "      <td>“It is our choices, Harry, that show what we t...</td>\n",
       "      <td>abilities,choices</td>\n",
       "    </tr>\n",
       "    <tr>\n",
       "      <th>2</th>\n",
       "      <td>Albert Einstein</td>\n",
       "      <td>“There are only two ways to live your life. On...</td>\n",
       "      <td>inspirational,life,live,miracle,miracles</td>\n",
       "    </tr>\n",
       "    <tr>\n",
       "      <th>3</th>\n",
       "      <td>Jane Austen</td>\n",
       "      <td>“The person, be it gentleman or lady, who has ...</td>\n",
       "      <td>aliteracy,books,classic,humor</td>\n",
       "    </tr>\n",
       "    <tr>\n",
       "      <th>4</th>\n",
       "      <td>Marilyn Monroe</td>\n",
       "      <td>“Imperfection is beauty, madness is genius and...</td>\n",
       "      <td>be-yourself,inspirational</td>\n",
       "    </tr>\n",
       "  </tbody>\n",
       "</table>\n",
       "</div>"
      ],
      "text/plain": [
       "            Author                                             quotes  \\\n",
       "0  Albert Einstein  “The world as we have created it is a process ...   \n",
       "1     J.K. Rowling  “It is our choices, Harry, that show what we t...   \n",
       "2  Albert Einstein  “There are only two ways to live your life. On...   \n",
       "3      Jane Austen  “The person, be it gentleman or lady, who has ...   \n",
       "4   Marilyn Monroe  “Imperfection is beauty, madness is genius and...   \n",
       "\n",
       "                                       tags  \n",
       "0       change,deep-thoughts,thinking,world  \n",
       "1                         abilities,choices  \n",
       "2  inspirational,life,live,miracle,miracles  \n",
       "3             aliteracy,books,classic,humor  \n",
       "4                 be-yourself,inspirational  "
      ]
     },
     "execution_count": 32,
     "metadata": {},
     "output_type": "execute_result"
    }
   ],
   "source": [
    "df.head()"
   ]
  },
  {
   "cell_type": "code",
   "execution_count": 33,
   "id": "a92d784a",
   "metadata": {},
   "outputs": [],
   "source": [
    "df.to_csv('Assignment_1_quotes_scrapping_sitaram.csv')"
   ]
  },
  {
   "cell_type": "code",
   "execution_count": null,
   "id": "dd305ce4",
   "metadata": {},
   "outputs": [],
   "source": []
  }
 ],
 "metadata": {
  "kernelspec": {
   "display_name": "Python 3 (ipykernel)",
   "language": "python",
   "name": "python3"
  },
  "language_info": {
   "codemirror_mode": {
    "name": "ipython",
    "version": 3
   },
   "file_extension": ".py",
   "mimetype": "text/x-python",
   "name": "python",
   "nbconvert_exporter": "python",
   "pygments_lexer": "ipython3",
   "version": "3.10.9"
  }
 },
 "nbformat": 4,
 "nbformat_minor": 5
}
